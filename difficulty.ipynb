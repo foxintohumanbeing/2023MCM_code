{
 "cells": [
  {
   "cell_type": "code",
   "execution_count": 298,
   "metadata": {},
   "outputs": [],
   "source": [
    "import numpy as np\n",
    "import pandas as pd\n",
    "import matplotlib.pyplot as plt\n",
    "from sklearn import linear_model\n",
    "from sklearn.mixture import GaussianMixture\n",
    "from sklearn.model_selection import train_test_split\n",
    "import seaborn as sns"
   ]
  },
  {
   "cell_type": "code",
   "execution_count": 299,
   "metadata": {},
   "outputs": [],
   "source": [
    "def normalize(df, column_index):\n",
    "    mean = df.iloc[:, column_index].mean()\n",
    "    std = df.iloc[:, column_index].std()\n",
    "    for i in range(len(df)):\n",
    "        df.iloc[i, column_index] = (df.iloc[i, column_index] - mean)/std\n"
   ]
  },
  {
   "cell_type": "code",
   "execution_count": 318,
   "metadata": {},
   "outputs": [],
   "source": [
    "df = pd.read_excel(\"./datafeatures_14.xlsx\")"
   ]
  },
  {
   "cell_type": "code",
   "execution_count": 319,
   "metadata": {},
   "outputs": [
    {
     "name": "stdout",
     "output_type": "stream",
     "text": [
      "<class 'pandas.core.frame.DataFrame'>\n",
      "RangeIndex: 359 entries, 0 to 358\n",
      "Data columns (total 29 columns):\n",
      " #   Column                      Non-Null Count  Dtype         \n",
      "---  ------                      --------------  -----         \n",
      " 0   Unnamed: 0                  359 non-null    int64         \n",
      " 1   Date                        359 non-null    datetime64[ns]\n",
      " 2   Contest number              359 non-null    int64         \n",
      " 3   Word                        359 non-null    object        \n",
      " 4   Number of reported results  359 non-null    int64         \n",
      " 5   Number in hard mode         359 non-null    int64         \n",
      " 6   1 try                       359 non-null    int64         \n",
      " 7   2 tries                     359 non-null    int64         \n",
      " 8   3 tries                     359 non-null    int64         \n",
      " 9   4 tries                     359 non-null    int64         \n",
      " 10  5 tries                     359 non-null    int64         \n",
      " 11  6 tries                     359 non-null    int64         \n",
      " 12  7 or more tries (X)         359 non-null    int64         \n",
      " 13  Etrial                      359 non-null    float64       \n",
      " 14  weekday                     359 non-null    int64         \n",
      " 15  HD_ratio                    359 non-null    float64       \n",
      " 16  double                      359 non-null    float64       \n",
      " 17  trible                      359 non-null    float64       \n",
      " 18  double_space                359 non-null    float64       \n",
      " 19  begin                       359 non-null    float64       \n",
      " 20  end                         359 non-null    float64       \n",
      " 21  duplicate                   359 non-null    int64         \n",
      " 22  freq                        359 non-null    float64       \n",
      " 23  freq_weig                   359 non-null    float64       \n",
      " 24  duplicate_con               359 non-null    int64         \n",
      " 25  vowel_num                   359 non-null    int64         \n",
      " 26  vowel_begin                 359 non-null    int64         \n",
      " 27  num_phonemes                359 non-null    int64         \n",
      " 28  appear freq                 359 non-null    int64         \n",
      "dtypes: datetime64[ns](1), float64(9), int64(18), object(1)\n",
      "memory usage: 81.5+ KB\n"
     ]
    }
   ],
   "source": [
    "df.info()"
   ]
  },
  {
   "cell_type": "code",
   "execution_count": 320,
   "metadata": {},
   "outputs": [],
   "source": [
    "for i in range(16, 29):\n",
    "    normalize(df, i)"
   ]
  },
  {
   "cell_type": "code",
   "execution_count": 321,
   "metadata": {},
   "outputs": [
    {
     "name": "stderr",
     "output_type": "stream",
     "text": [
      "C:\\Users\\曲荣潇\\AppData\\Local\\Temp\\ipykernel_16472\\3698961737.py:1: FutureWarning: DataFrame.mean and DataFrame.median with numeric_only=None will include datetime64 and datetime64tz columns in a future version.\n",
      "  df.mean()\n",
      "C:\\Users\\曲荣潇\\AppData\\Local\\Temp\\ipykernel_16472\\3698961737.py:1: FutureWarning: Dropping of nuisance columns in DataFrame reductions (with 'numeric_only=None') is deprecated; in a future version this will raise TypeError.  Select only valid columns before calling the reduction.\n",
      "  df.mean()\n"
     ]
    },
    {
     "data": {
      "text/plain": [
       "Unnamed: 0                    1.790000e+02\n",
       "Contest number                3.810000e+02\n",
       "Number of reported results    9.091888e+04\n",
       "Number in hard mode           5.098351e+03\n",
       "1 try                         4.707521e-01\n",
       "2 tries                       5.841226e+00\n",
       "3 tries                       2.271588e+01\n",
       "4 tries                       3.290251e+01\n",
       "5 tries                       2.362396e+01\n",
       "6 tries                       1.154596e+01\n",
       "7 or more tries (X)           2.799443e+00\n",
       "Etrial                        4.192340e+00\n",
       "weekday                       3.008357e+00\n",
       "HD_ratio                      7.763431e-02\n",
       "double                        1.360719e-17\n",
       "trible                       -8.690047e-17\n",
       "double_space                  1.688529e-16\n",
       "begin                        -8.999301e-17\n",
       "end                           2.628662e-17\n",
       "duplicate                     8.442643e-17\n",
       "freq                          1.189547e-15\n",
       "freq_weig                     7.765067e-15\n",
       "duplicate_con                 8.442643e-17\n",
       "vowel_num                    -3.092543e-16\n",
       "vowel_begin                   7.796302e-16\n",
       "num_phonemes                  7.545806e-17\n",
       "appear freq                   6.030459e-18\n",
       "dtype: float64"
      ]
     },
     "execution_count": 321,
     "metadata": {},
     "output_type": "execute_result"
    }
   ],
   "source": [
    "df.mean()"
   ]
  },
  {
   "cell_type": "code",
   "execution_count": 322,
   "metadata": {},
   "outputs": [],
   "source": [
    "Etrials = list(df[\"Etrial\"])\n",
    "Etrials.sort()"
   ]
  },
  {
   "cell_type": "code",
   "execution_count": 323,
   "metadata": {},
   "outputs": [
    {
     "data": {
      "text/plain": [
       "4.01"
      ]
     },
     "execution_count": 323,
     "metadata": {},
     "output_type": "execute_result"
    }
   ],
   "source": [
    "Etrials[120]"
   ]
  },
  {
   "cell_type": "code",
   "execution_count": null,
   "metadata": {},
   "outputs": [
    {
     "data": {
      "text/plain": [
       "trible          0.040280\n",
       "double_space    0.027890\n",
       "begin           0.284264\n",
       "end             0.077426\n",
       "duplicate      -0.268392\n",
       "freq_weig       0.262437\n",
       "vowel_begin    -0.112766\n",
       "dtype: float64"
      ]
     },
     "execution_count": 281,
     "metadata": {},
     "output_type": "execute_result"
    }
   ],
   "source": [
    "df.iloc[:, 15:28].loc[df[\"Etrial\"] < 4.01, lasso_reg1.coef_ != 0].mean(axis=0)"
   ]
  },
  {
   "cell_type": "code",
   "execution_count": null,
   "metadata": {},
   "outputs": [
    {
     "name": "stderr",
     "output_type": "stream",
     "text": [
      "e:\\Anaconda\\lib\\site-packages\\numpy\\core\\fromnumeric.py:3438: FutureWarning: In a future version, DataFrame.mean(axis=None) will return a scalar mean over the entire DataFrame. To retain the old behavior, use 'frame.mean(axis=0)' or just 'frame.mean()'\n",
      "  return mean(axis=axis, dtype=dtype, out=out, **kwargs)\n"
     ]
    }
   ],
   "source": [
    "# GMM = GaussianMixture(n_components=3, \\\n",
    "#                         means_init=[\\\n",
    "#                         np.mean(df.iloc[:, 15:28].loc[df[\"Etrial\"] < 4.01, lasso_reg1.coef_ != 0]), \\\n",
    "#                         np.mean(df.iloc[:, 15:28].loc[df[\"Etrial\"] < 4.32, lasso_reg1.coef_ != 0].loc[df[\"Etrial\"] >= 4.01, :]), \\\n",
    "#                         np.mean(df.iloc[:, 15:28].loc[df[\"Etrial\"] > 4.32, lasso_reg1.coef_ != 0])])\n"
   ]
  },
  {
   "cell_type": "code",
   "execution_count": 548,
   "metadata": {},
   "outputs": [],
   "source": [
    "GMM = GaussianMixture(n_components=3)"
   ]
  },
  {
   "cell_type": "code",
   "execution_count": 549,
   "metadata": {},
   "outputs": [
    {
     "data": {
      "text/plain": [
       "GaussianMixture(covariance_type='full', init_params='kmeans', max_iter=100,\n",
       "                means_init=None, n_components=3, n_init=1, precisions_init=None,\n",
       "                random_state=None, reg_covar=1e-06, tol=0.001, verbose=0,\n",
       "                verbose_interval=10, warm_start=False, weights_init=None)"
      ]
     },
     "execution_count": 549,
     "metadata": {},
     "output_type": "execute_result"
    }
   ],
   "source": [
    "GMM.fit(df.iloc[:, 16:28].loc[:, lasso_reg1.coef_ != 0])"
   ]
  },
  {
   "cell_type": "code",
   "execution_count": 550,
   "metadata": {},
   "outputs": [],
   "source": [
    "df[\"GMM_Components\"] = GMM.predict(df.iloc[:, 16:28].loc[:, lasso_reg1.coef_ != 0])"
   ]
  },
  {
   "cell_type": "code",
   "execution_count": 486,
   "metadata": {},
   "outputs": [
    {
     "name": "stdout",
     "output_type": "stream",
     "text": [
      "43\n",
      "39\n",
      "68\n",
      "54\n",
      "155\n"
     ]
    }
   ],
   "source": [
    "# Distributions\n",
    "for i in range(5):\n",
    "    print(sum(df[\"GMM_Components\"]==i))"
   ]
  },
  {
   "cell_type": "code",
   "execution_count": 487,
   "metadata": {},
   "outputs": [
    {
     "name": "stdout",
     "output_type": "stream",
     "text": [
      "4.047674418604651\n",
      "4.443333333333334\n",
      "4.12764705882353\n",
      "4.207037037037038\n",
      "4.19258064516129\n",
      "4.192339832869077\n"
     ]
    }
   ],
   "source": [
    "# Expected trials in each components\n",
    "for i in range(5):\n",
    "    print(np.mean(df.loc[df[\"GMM_Components\"]==i, \"Etrial\"]))\n",
    "print(np.mean(df.loc[:, \"Etrial\"]))"
   ]
  },
  {
   "cell_type": "code",
   "execution_count": 491,
   "metadata": {},
   "outputs": [
    {
     "name": "stdout",
     "output_type": "stream",
     "text": [
      "<class 'pandas.core.frame.DataFrame'>\n",
      "RangeIndex: 359 entries, 0 to 358\n",
      "Data columns (total 31 columns):\n",
      " #   Column                      Non-Null Count  Dtype         \n",
      "---  ------                      --------------  -----         \n",
      " 0   Unnamed: 0                  359 non-null    int64         \n",
      " 1   Date                        359 non-null    datetime64[ns]\n",
      " 2   Contest number              359 non-null    int64         \n",
      " 3   Word                        359 non-null    object        \n",
      " 4   Number of reported results  359 non-null    int64         \n",
      " 5   Number in hard mode         359 non-null    int64         \n",
      " 6   1 try                       359 non-null    int64         \n",
      " 7   2 tries                     359 non-null    int64         \n",
      " 8   3 tries                     359 non-null    int64         \n",
      " 9   4 tries                     359 non-null    int64         \n",
      " 10  5 tries                     359 non-null    int64         \n",
      " 11  6 tries                     359 non-null    int64         \n",
      " 12  7 or more tries (X)         359 non-null    int64         \n",
      " 13  Etrial                      359 non-null    float64       \n",
      " 14  weekday                     359 non-null    int64         \n",
      " 15  HD_ratio                    359 non-null    float64       \n",
      " 16  double                      359 non-null    float64       \n",
      " 17  trible                      359 non-null    float64       \n",
      " 18  double_space                359 non-null    float64       \n",
      " 19  begin                       359 non-null    float64       \n",
      " 20  end                         359 non-null    float64       \n",
      " 21  duplicate                   359 non-null    float64       \n",
      " 22  freq                        359 non-null    float64       \n",
      " 23  freq_weig                   359 non-null    float64       \n",
      " 24  duplicate_con               359 non-null    float64       \n",
      " 25  vowel_num                   359 non-null    float64       \n",
      " 26  vowel_begin                 359 non-null    float64       \n",
      " 27  num_phonemes                359 non-null    float64       \n",
      " 28  appear freq                 359 non-null    float64       \n",
      " 29  GMM_Components              359 non-null    int64         \n",
      " 30  GMM_likely                  359 non-null    float64       \n",
      "dtypes: datetime64[ns](1), float64(16), int64(13), object(1)\n",
      "memory usage: 87.1+ KB\n"
     ]
    }
   ],
   "source": [
    "df.info()"
   ]
  },
  {
   "cell_type": "code",
   "execution_count": 497,
   "metadata": {},
   "outputs": [
    {
     "name": "stdout",
     "output_type": "stream",
     "text": [
      "5.662790697674418\n",
      "8.91025641025641\n",
      "7.044117647058823\n",
      "8.287037037037038\n",
      "6.82258064516129\n"
     ]
    }
   ],
   "source": [
    "# Mean of trials exceeded 7\n",
    "for i in range(5):\n",
    "    print(np.mean(np.mean(df.loc[df[\"GMM_Components\"]==i, :].iloc[:, 11:13])))\n",
    "# print(np.mean(df.loc[:, \"7 or more tries (X)\"]))"
   ]
  },
  {
   "cell_type": "code",
   "execution_count": 507,
   "metadata": {},
   "outputs": [
    {
     "data": {
      "image/png": "[encoded data removed]",
      "text/plain": [
       "<Figure size 432x288 with 1 Axes>"
      ]
     },
     "metadata": {},
     "output_type": "display_data"
    }
   ],
   "source": [
    "for i in range(5):\n",
    "    plt.plot(range(sum(lasso_reg1.coef_ != 0)), GMM.means_[i])"
   ]
  },
  {
   "cell_type": "code",
   "execution_count": 557,
   "metadata": {},
   "outputs": [],
   "source": [
    "df[\"GMM_likely\"] = GMM.predict_proba(df.iloc[:, 16:28].loc[:, lasso_reg1.coef_ != 0]) @ GMM.weights_\n"
   ]
  },
  {
   "cell_type": "code",
   "execution_count": 555,
   "metadata": {},
   "outputs": [],
   "source": [
    "# df[\"GMM_likely\"] = np.max(GMM.predict_proba(df.iloc[:, 16:28].loc[:, lasso_reg1.coef_ != 0]), axis=1)"
   ]
  },
  {
   "cell_type": "code",
   "execution_count": 558,
   "metadata": {},
   "outputs": [
    {
     "data": {
      "text/plain": [
       "array([[ 1.        , -0.22438637],\n",
       "       [-0.22438637,  1.        ]])"
      ]
     },
     "execution_count": 558,
     "metadata": {},
     "output_type": "execute_result"
    }
   ],
   "source": [
    "np.corrcoef(df[\"GMM_likely\"], df[\"Etrial\"])"
   ]
  },
  {
   "cell_type": "code",
   "execution_count": 348,
   "metadata": {},
   "outputs": [],
   "source": [
    "X = df.iloc[:, 16:28]\n",
    "y1 = df.iloc[:, 13]\n",
    "y2 = df[\"7 or more tries (X)\"] + df[\"6 tries\"]\n",
    "y1 = (y1-y1.min() + 0.1)/y1.std()\n",
    "y2 = (y2-y2.min())/y2.std()\n",
    "y = np.log((y1 + y2)/2)\n",
    "train_X, test_X, train_y, test_y = train_test_split(X, y1, test_size=0.3)\n"
   ]
  },
  {
   "cell_type": "code",
   "execution_count": 349,
   "metadata": {},
   "outputs": [
    {
     "data": {
      "text/plain": [
       "0.12319082761850342"
      ]
     },
     "execution_count": 349,
     "metadata": {},
     "output_type": "execute_result"
    }
   ],
   "source": [
    "lasso_reg1 = linear_model.Lasso(alpha=0.05)\n",
    "lasso_reg1.fit(train_X, train_y)\n",
    "lasso_reg1.score(test_X, test_y)"
   ]
  },
  {
   "cell_type": "code",
   "execution_count": 350,
   "metadata": {},
   "outputs": [
    {
     "data": {
      "text/plain": [
       "array([False,  True,  True,  True, False,  True,  True, False,  True,\n",
       "       False, False, False])"
      ]
     },
     "execution_count": 350,
     "metadata": {},
     "output_type": "execute_result"
    }
   ],
   "source": [
    "lasso_reg1.coef_ != 0"
   ]
  },
  {
   "cell_type": "code",
   "execution_count": 351,
   "metadata": {},
   "outputs": [],
   "source": [
    "p_y = lasso_reg1.predict(test_X)"
   ]
  },
  {
   "cell_type": "code",
   "execution_count": 352,
   "metadata": {},
   "outputs": [
    {
     "data": {
      "text/plain": [
       "<AxesSubplot:ylabel='Etrial'>"
      ]
     },
     "execution_count": 352,
     "metadata": {},
     "output_type": "execute_result"
    },
    {
     "data": {
      "image/png": "[encoded data removed]",
      "text/plain": [
       "<Figure size 432x288 with 1 Axes>"
      ]
     },
     "metadata": {},
     "output_type": "display_data"
    }
   ],
   "source": [
    "plt.style.use(\"ggplot\")\n",
    "sns.regplot(x=p_y, y=test_y)\n"
   ]
  },
  {
   "cell_type": "code",
   "execution_count": 353,
   "metadata": {},
   "outputs": [
    {
     "data": {
      "text/plain": [
       "array([[1.        , 0.05667756],\n",
       "       [0.05667756, 1.        ]])"
      ]
     },
     "execution_count": 353,
     "metadata": {},
     "output_type": "execute_result"
    }
   ],
   "source": [
    "np.corrcoef(df.iloc[:, 20], df.iloc[:, 12])"
   ]
  }
 ],
 "metadata": {
  "kernelspec": {
   "display_name": "base",
   "language": "python",
   "name": "python3"
  },
  "language_info": {
   "codemirror_mode": {
    "name": "ipython",
    "version": 3
   },
   "file_extension": ".py",
   "mimetype": "text/x-python",
   "name": "python",
   "nbconvert_exporter": "python",
   "pygments_lexer": "ipython3",
   "version": "3.9.12"
  },
  "orig_nbformat": 4,
  "vscode": {
   "interpreter": {
    "hash": "91bb753b057673435fb8d6f6a083e6c818364728098c7ae050ca3a25357dd754"
   }
  }
 },
 "nbformat": 4,
 "nbformat_minor": 2
}
