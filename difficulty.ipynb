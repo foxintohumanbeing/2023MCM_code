{
 "cells": [
  {
   "cell_type": "code",
   "execution_count": 2,
   "metadata": {},
   "outputs": [],
   "source": [
    "import numpy as np\n",
    "import pandas as pd\n",
    "import matplotlib.pyplot as plt\n",
    "from sklearn import linear_model\n",
    "from sklearn.mixture import GaussianMixture\n",
    "from sklearn.model_selection import train_test_split\n",
    "import seaborn as sns"
   ]
  },
  {
   "cell_type": "code",
   "execution_count": 3,
   "metadata": {},
   "outputs": [],
   "source": [
    "def normalize(df, column_index):\n",
    "    mean = df.iloc[:, column_index].mean()\n",
    "    std = df.iloc[:, column_index].std()\n",
    "    for i in range(len(df)):\n",
    "        df.iloc[i, column_index] = (df.iloc[i, column_index] - mean)/std\n"
   ]
  },
  {
   "cell_type": "code",
   "execution_count": 4,
   "metadata": {},
   "outputs": [],
   "source": [
    "df = pd.read_excel(\"datafeatures_all.xlsx\")"
   ]
  },
  {
   "cell_type": "code",
   "execution_count": 5,
   "metadata": {},
   "outputs": [],
   "source": [
    "for i in range(15, 27):\n",
    "    normalize(df, i)"
   ]
  },
  {
   "cell_type": "code",
   "execution_count": 6,
   "metadata": {},
   "outputs": [
    {
     "name": "stderr",
     "output_type": "stream",
     "text": [
      "C:\\Users\\曲荣潇\\AppData\\Local\\Temp\\ipykernel_16472\\3698961737.py:1: FutureWarning: DataFrame.mean and DataFrame.median with numeric_only=None will include datetime64 and datetime64tz columns in a future version.\n",
      "  df.mean()\n",
      "C:\\Users\\曲荣潇\\AppData\\Local\\Temp\\ipykernel_16472\\3698961737.py:1: FutureWarning: Dropping of nuisance columns in DataFrame reductions (with 'numeric_only=None') is deprecated; in a future version this will raise TypeError.  Select only valid columns before calling the reduction.\n",
      "  df.mean()\n"
     ]
    },
    {
     "data": {
      "text/plain": [
       "Contest number                3.810000e+02\n",
       "Number of reported results    9.091888e+04\n",
       "Number in hard mode           5.098351e+03\n",
       "1 try                         4.707521e-01\n",
       "2 tries                       5.844011e+00\n",
       "3 tries                       2.272702e+01\n",
       "4 tries                       3.292758e+01\n",
       "5 tries                       2.363788e+01\n",
       "6 tries                       1.155989e+01\n",
       "7 or more tries (X)           2.805014e+00\n",
       "Etrial                        4.192340e+00\n",
       "weekday                       3.008357e+00\n",
       "HD_ratio                      7.763431e-02\n",
       "double                        1.360719e-17\n",
       "trible                       -8.690047e-17\n",
       "double_space                  1.688529e-16\n",
       "begin                        -8.999301e-17\n",
       "end                           2.628662e-17\n",
       "duplicate                     8.442643e-17\n",
       "freq                          1.189547e-15\n",
       "freq_weig                     7.765067e-15\n",
       "duplicate_con                 8.442643e-17\n",
       "vowel_num                    -3.092543e-16\n",
       "vowel_begin                   7.796302e-16\n",
       "num_phonemes                  7.545806e-17\n",
       "dtype: float64"
      ]
     },
     "execution_count": 6,
     "metadata": {},
     "output_type": "execute_result"
    }
   ],
   "source": [
    "df.mean()"
   ]
  },
  {
   "cell_type": "code",
   "execution_count": 7,
   "metadata": {},
   "outputs": [
    {
     "name": "stdout",
     "output_type": "stream",
     "text": [
      "<class 'pandas.core.frame.DataFrame'>\n",
      "RangeIndex: 359 entries, 0 to 358\n",
      "Data columns (total 27 columns):\n",
      " #   Column                      Non-Null Count  Dtype         \n",
      "---  ------                      --------------  -----         \n",
      " 0   Date                        359 non-null    datetime64[ns]\n",
      " 1   Contest number              359 non-null    int64         \n",
      " 2   Word                        359 non-null    object        \n",
      " 3   Number of reported results  359 non-null    int64         \n",
      " 4   Number in hard mode         359 non-null    int64         \n",
      " 5   1 try                       359 non-null    int64         \n",
      " 6   2 tries                     359 non-null    int64         \n",
      " 7   3 tries                     359 non-null    int64         \n",
      " 8   4 tries                     359 non-null    int64         \n",
      " 9   5 tries                     359 non-null    int64         \n",
      " 10  6 tries                     359 non-null    int64         \n",
      " 11  7 or more tries (X)         359 non-null    int64         \n",
      " 12  Etrial                      359 non-null    float64       \n",
      " 13  weekday                     359 non-null    int64         \n",
      " 14  HD_ratio                    359 non-null    float64       \n",
      " 15  double                      359 non-null    float64       \n",
      " 16  trible                      359 non-null    float64       \n",
      " 17  double_space                359 non-null    float64       \n",
      " 18  begin                       359 non-null    float64       \n",
      " 19  end                         359 non-null    float64       \n",
      " 20  duplicate                   359 non-null    float64       \n",
      " 21  freq                        359 non-null    float64       \n",
      " 22  freq_weig                   359 non-null    float64       \n",
      " 23  duplicate_con               359 non-null    float64       \n",
      " 24  vowel_num                   359 non-null    float64       \n",
      " 25  vowel_begin                 359 non-null    float64       \n",
      " 26  num_phonemes                359 non-null    float64       \n",
      "dtypes: datetime64[ns](1), float64(14), int64(11), object(1)\n",
      "memory usage: 75.9+ KB\n"
     ]
    }
   ],
   "source": [
    "df.info()"
   ]
  },
  {
   "cell_type": "code",
   "execution_count": 264,
   "metadata": {},
   "outputs": [],
   "source": [
    "Etrials = list(df[\"Etrial\"])\n",
    "Etrials.sort()"
   ]
  },
  {
   "cell_type": "code",
   "execution_count": 270,
   "metadata": {},
   "outputs": [
    {
     "data": {
      "text/plain": [
       "4.01"
      ]
     },
     "execution_count": 270,
     "metadata": {},
     "output_type": "execute_result"
    }
   ],
   "source": [
    "Etrials[120]"
   ]
  },
  {
   "cell_type": "code",
   "execution_count": 271,
   "metadata": {},
   "outputs": [
    {
     "name": "stderr",
     "output_type": "stream",
     "text": [
      "e:\\Anaconda\\lib\\site-packages\\numpy\\core\\fromnumeric.py:3438: FutureWarning: In a future version, DataFrame.mean(axis=None) will return a scalar mean over the entire DataFrame. To retain the old behavior, use 'frame.mean(axis=0)' or just 'frame.mean()'\n",
      "  return mean(axis=axis, dtype=dtype, out=out, **kwargs)\n"
     ]
    },
    {
     "data": {
      "text/plain": [
       "trible          0.074024\n",
       "double_space    0.051777\n",
       "begin           0.263098\n",
       "end             0.078458\n",
       "duplicate      -0.269707\n",
       "freq_weig       0.273299\n",
       "vowel_begin    -0.074373\n",
       "dtype: float64"
      ]
     },
     "execution_count": 271,
     "metadata": {},
     "output_type": "execute_result"
    }
   ],
   "source": [
    "np.mean(df.iloc[:, 15:28].loc[df[\"Etrial\"] <= 4.01, lasso_reg1.coef_ != 0])"
   ]
  },
  {
   "cell_type": "code",
   "execution_count": 281,
   "metadata": {},
   "outputs": [
    {
     "data": {
      "text/plain": [
       "trible          0.040280\n",
       "double_space    0.027890\n",
       "begin           0.284264\n",
       "end             0.077426\n",
       "duplicate      -0.268392\n",
       "freq_weig       0.262437\n",
       "vowel_begin    -0.112766\n",
       "dtype: float64"
      ]
     },
     "execution_count": 281,
     "metadata": {},
     "output_type": "execute_result"
    }
   ],
   "source": [
    "df.iloc[:, 15:28].loc[df[\"Etrial\"] < 4.01, lasso_reg1.coef_ != 0].mean(axis=0)"
   ]
  },
  {
   "cell_type": "code",
   "execution_count": 294,
   "metadata": {},
   "outputs": [
    {
     "name": "stderr",
     "output_type": "stream",
     "text": [
      "e:\\Anaconda\\lib\\site-packages\\numpy\\core\\fromnumeric.py:3438: FutureWarning: In a future version, DataFrame.mean(axis=None) will return a scalar mean over the entire DataFrame. To retain the old behavior, use 'frame.mean(axis=0)' or just 'frame.mean()'\n",
      "  return mean(axis=axis, dtype=dtype, out=out, **kwargs)\n"
     ]
    }
   ],
   "source": [
    "GMM = GaussianMixture(n_components=3, \\\n",
    "                        means_init=[\\\n",
    "                        np.mean(df.iloc[:, 15:28].loc[df[\"Etrial\"] < 4.01, lasso_reg1.coef_ != 0]), \\\n",
    "                        np.mean(df.iloc[:, 15:28].loc[df[\"Etrial\"] < 4.32, lasso_reg1.coef_ != 0].loc[df[\"Etrial\"] >= 4.01, :]), \\\n",
    "                        np.mean(df.iloc[:, 15:28].loc[df[\"Etrial\"] > 4.32, lasso_reg1.coef_ != 0])])\n"
   ]
  },
  {
   "cell_type": "code",
   "execution_count": 291,
   "metadata": {},
   "outputs": [
    {
     "data": {
      "text/plain": [
       "GaussianMixture(covariance_type='full', init_params='kmeans', max_iter=100,\n",
       "                means_init=array([[ 0.04027991,  0.02788981,  0.28426437,  0.07742582, -0.26839228,\n",
       "         0.26243709, -0.11276607],\n",
       "       [ 0.0717603 ,  0.00747661, -0.11102979, -0.05467479, -0.07197404,\n",
       "         0.02114733,  0.24487816],\n",
       "       [-0.09095215, -0.031022  , -0.18333028, -0.01161478,  0.30407615,\n",
       "        -0.26526929, -0.10709539]]),\n",
       "                n_components=3, n_init=1, precisions_init=None,\n",
       "                random_state=None, reg_covar=1e-06, tol=0.001, verbose=0,\n",
       "                verbose_interval=10, warm_start=False, weights_init=None)"
      ]
     },
     "execution_count": 291,
     "metadata": {},
     "output_type": "execute_result"
    }
   ],
   "source": [
    "# lasso_reg1.coef_ != 0\n",
    "GMM.fit(df.iloc[:, 15:28].loc[:, lasso_reg1.coef_ != 0])"
   ]
  },
  {
   "cell_type": "code",
   "execution_count": 293,
   "metadata": {},
   "outputs": [
    {
     "data": {
      "text/plain": [
       "array([[ 0.01784117, -0.02343962,  0.08959341, -0.01176005,  0.01629342,\n",
       "        -0.1603186 , -0.44733648],\n",
       "       [-0.08890849,  0.11680742, -0.44647382,  0.05860423, -0.08119555,\n",
       "         0.79892103,  2.22922681],\n",
       "       [ 0.        ,  0.        ,  0.        ,  0.        ,  0.        ,\n",
       "         0.        ,  0.        ]])"
      ]
     },
     "execution_count": 293,
     "metadata": {},
     "output_type": "execute_result"
    }
   ],
   "source": [
    "GMM.means_"
   ]
  },
  {
   "cell_type": "code",
   "execution_count": 292,
   "metadata": {},
   "outputs": [
    {
     "data": {
      "text/html": [
       "<div>\n",
       "<style scoped>\n",
       "    .dataframe tbody tr th:only-of-type {\n",
       "        vertical-align: middle;\n",
       "    }\n",
       "\n",
       "    .dataframe tbody tr th {\n",
       "        vertical-align: top;\n",
       "    }\n",
       "\n",
       "    .dataframe thead th {\n",
       "        text-align: right;\n",
       "    }\n",
       "</style>\n",
       "<table border=\"1\" class=\"dataframe\">\n",
       "  <thead>\n",
       "    <tr style=\"text-align: right;\">\n",
       "      <th></th>\n",
       "      <th>trible</th>\n",
       "      <th>double_space</th>\n",
       "      <th>begin</th>\n",
       "      <th>end</th>\n",
       "      <th>duplicate</th>\n",
       "      <th>freq_weig</th>\n",
       "      <th>vowel_begin</th>\n",
       "    </tr>\n",
       "  </thead>\n",
       "  <tbody>\n",
       "    <tr>\n",
       "      <th>0</th>\n",
       "      <td>-0.485086</td>\n",
       "      <td>-0.725907</td>\n",
       "      <td>1.964358</td>\n",
       "      <td>-1.271214</td>\n",
       "      <td>-0.348619</td>\n",
       "      <td>-1.141591</td>\n",
       "      <td>-0.447336</td>\n",
       "    </tr>\n",
       "    <tr>\n",
       "      <th>1</th>\n",
       "      <td>-0.485086</td>\n",
       "      <td>-0.725907</td>\n",
       "      <td>0.659900</td>\n",
       "      <td>-0.923738</td>\n",
       "      <td>-0.348619</td>\n",
       "      <td>-0.310428</td>\n",
       "      <td>-0.447336</td>\n",
       "    </tr>\n",
       "    <tr>\n",
       "      <th>2</th>\n",
       "      <td>-0.485086</td>\n",
       "      <td>-0.725907</td>\n",
       "      <td>-0.499618</td>\n",
       "      <td>1.552025</td>\n",
       "      <td>-0.348619</td>\n",
       "      <td>0.093136</td>\n",
       "      <td>-0.447336</td>\n",
       "    </tr>\n",
       "    <tr>\n",
       "      <th>3</th>\n",
       "      <td>-0.485086</td>\n",
       "      <td>-0.725907</td>\n",
       "      <td>-1.514197</td>\n",
       "      <td>0.509598</td>\n",
       "      <td>-0.348619</td>\n",
       "      <td>-1.299150</td>\n",
       "      <td>-0.447336</td>\n",
       "    </tr>\n",
       "    <tr>\n",
       "      <th>4</th>\n",
       "      <td>-0.485086</td>\n",
       "      <td>-0.725907</td>\n",
       "      <td>-0.861968</td>\n",
       "      <td>-0.923738</td>\n",
       "      <td>-0.348619</td>\n",
       "      <td>-1.161138</td>\n",
       "      <td>-0.447336</td>\n",
       "    </tr>\n",
       "    <tr>\n",
       "      <th>...</th>\n",
       "      <td>...</td>\n",
       "      <td>...</td>\n",
       "      <td>...</td>\n",
       "      <td>...</td>\n",
       "      <td>...</td>\n",
       "      <td>...</td>\n",
       "      <td>...</td>\n",
       "    </tr>\n",
       "    <tr>\n",
       "      <th>354</th>\n",
       "      <td>-0.485086</td>\n",
       "      <td>-0.725907</td>\n",
       "      <td>0.659900</td>\n",
       "      <td>-1.140910</td>\n",
       "      <td>-0.348619</td>\n",
       "      <td>-0.382290</td>\n",
       "      <td>-0.447336</td>\n",
       "    </tr>\n",
       "    <tr>\n",
       "      <th>355</th>\n",
       "      <td>-0.485086</td>\n",
       "      <td>-0.725907</td>\n",
       "      <td>-1.006908</td>\n",
       "      <td>-0.576262</td>\n",
       "      <td>-0.348619</td>\n",
       "      <td>0.221386</td>\n",
       "      <td>2.229227</td>\n",
       "    </tr>\n",
       "    <tr>\n",
       "      <th>356</th>\n",
       "      <td>-0.485086</td>\n",
       "      <td>0.235364</td>\n",
       "      <td>-0.934438</td>\n",
       "      <td>-1.401517</td>\n",
       "      <td>-0.348619</td>\n",
       "      <td>-0.582649</td>\n",
       "      <td>-0.447336</td>\n",
       "    </tr>\n",
       "    <tr>\n",
       "      <th>357</th>\n",
       "      <td>-0.485086</td>\n",
       "      <td>-0.725907</td>\n",
       "      <td>-0.282209</td>\n",
       "      <td>-0.098484</td>\n",
       "      <td>-0.348619</td>\n",
       "      <td>0.465005</td>\n",
       "      <td>-0.447336</td>\n",
       "    </tr>\n",
       "    <tr>\n",
       "      <th>358</th>\n",
       "      <td>-0.485086</td>\n",
       "      <td>-0.725907</td>\n",
       "      <td>-0.282209</td>\n",
       "      <td>0.509598</td>\n",
       "      <td>-0.348619</td>\n",
       "      <td>-0.564264</td>\n",
       "      <td>-0.447336</td>\n",
       "    </tr>\n",
       "  </tbody>\n",
       "</table>\n",
       "<p>359 rows × 7 columns</p>\n",
       "</div>"
      ],
      "text/plain": [
       "       trible  double_space     begin       end  duplicate  freq_weig  \\\n",
       "0   -0.485086     -0.725907  1.964358 -1.271214  -0.348619  -1.141591   \n",
       "1   -0.485086     -0.725907  0.659900 -0.923738  -0.348619  -0.310428   \n",
       "2   -0.485086     -0.725907 -0.499618  1.552025  -0.348619   0.093136   \n",
       "3   -0.485086     -0.725907 -1.514197  0.509598  -0.348619  -1.299150   \n",
       "4   -0.485086     -0.725907 -0.861968 -0.923738  -0.348619  -1.161138   \n",
       "..        ...           ...       ...       ...        ...        ...   \n",
       "354 -0.485086     -0.725907  0.659900 -1.140910  -0.348619  -0.382290   \n",
       "355 -0.485086     -0.725907 -1.006908 -0.576262  -0.348619   0.221386   \n",
       "356 -0.485086      0.235364 -0.934438 -1.401517  -0.348619  -0.582649   \n",
       "357 -0.485086     -0.725907 -0.282209 -0.098484  -0.348619   0.465005   \n",
       "358 -0.485086     -0.725907 -0.282209  0.509598  -0.348619  -0.564264   \n",
       "\n",
       "     vowel_begin  \n",
       "0      -0.447336  \n",
       "1      -0.447336  \n",
       "2      -0.447336  \n",
       "3      -0.447336  \n",
       "4      -0.447336  \n",
       "..           ...  \n",
       "354    -0.447336  \n",
       "355     2.229227  \n",
       "356    -0.447336  \n",
       "357    -0.447336  \n",
       "358    -0.447336  \n",
       "\n",
       "[359 rows x 7 columns]"
      ]
     },
     "execution_count": 292,
     "metadata": {},
     "output_type": "execute_result"
    }
   ],
   "source": [
    "df.iloc[:, 15:28].loc[:, lasso_reg1.coef_ != 0]"
   ]
  },
  {
   "cell_type": "code",
   "execution_count": 249,
   "metadata": {},
   "outputs": [
    {
     "data": {
      "text/html": [
       "<div>\n",
       "<style scoped>\n",
       "    .dataframe tbody tr th:only-of-type {\n",
       "        vertical-align: middle;\n",
       "    }\n",
       "\n",
       "    .dataframe tbody tr th {\n",
       "        vertical-align: top;\n",
       "    }\n",
       "\n",
       "    .dataframe thead th {\n",
       "        text-align: right;\n",
       "    }\n",
       "</style>\n",
       "<table border=\"1\" class=\"dataframe\">\n",
       "  <thead>\n",
       "    <tr style=\"text-align: right;\">\n",
       "      <th></th>\n",
       "      <th>double</th>\n",
       "      <th>trible</th>\n",
       "      <th>double_space</th>\n",
       "      <th>begin</th>\n",
       "      <th>end</th>\n",
       "      <th>duplicate</th>\n",
       "      <th>freq</th>\n",
       "      <th>freq_weig</th>\n",
       "      <th>duplicate_con</th>\n",
       "      <th>vowel_num</th>\n",
       "      <th>vowel_begin</th>\n",
       "      <th>num_phonemes</th>\n",
       "    </tr>\n",
       "  </thead>\n",
       "  <tbody>\n",
       "    <tr>\n",
       "      <th>0</th>\n",
       "      <td>-0.819881</td>\n",
       "      <td>-0.485086</td>\n",
       "      <td>-0.725907</td>\n",
       "      <td>1.964358</td>\n",
       "      <td>-1.271214</td>\n",
       "      <td>-0.348619</td>\n",
       "      <td>-1.554852</td>\n",
       "      <td>-1.141591</td>\n",
       "      <td>-0.348619</td>\n",
       "      <td>-1.279400</td>\n",
       "      <td>-0.447336</td>\n",
       "      <td>1.260367</td>\n",
       "    </tr>\n",
       "    <tr>\n",
       "      <th>1</th>\n",
       "      <td>-0.819881</td>\n",
       "      <td>-0.485086</td>\n",
       "      <td>-0.725907</td>\n",
       "      <td>0.659900</td>\n",
       "      <td>-0.923738</td>\n",
       "      <td>-0.348619</td>\n",
       "      <td>-0.283424</td>\n",
       "      <td>-0.310428</td>\n",
       "      <td>-0.348619</td>\n",
       "      <td>-1.279400</td>\n",
       "      <td>-0.447336</td>\n",
       "      <td>1.260367</td>\n",
       "    </tr>\n",
       "    <tr>\n",
       "      <th>2</th>\n",
       "      <td>0.420817</td>\n",
       "      <td>-0.485086</td>\n",
       "      <td>-0.725907</td>\n",
       "      <td>-0.499618</td>\n",
       "      <td>1.552025</td>\n",
       "      <td>-0.348619</td>\n",
       "      <td>0.446137</td>\n",
       "      <td>0.093136</td>\n",
       "      <td>-0.348619</td>\n",
       "      <td>0.343585</td>\n",
       "      <td>-0.447336</td>\n",
       "      <td>-1.416980</td>\n",
       "    </tr>\n",
       "    <tr>\n",
       "      <th>3</th>\n",
       "      <td>1.223621</td>\n",
       "      <td>-0.485086</td>\n",
       "      <td>-0.725907</td>\n",
       "      <td>-1.514197</td>\n",
       "      <td>0.509598</td>\n",
       "      <td>-0.348619</td>\n",
       "      <td>-0.737961</td>\n",
       "      <td>-1.299150</td>\n",
       "      <td>-0.348619</td>\n",
       "      <td>0.343585</td>\n",
       "      <td>-0.447336</td>\n",
       "      <td>1.260367</td>\n",
       "    </tr>\n",
       "    <tr>\n",
       "      <th>4</th>\n",
       "      <td>1.150639</td>\n",
       "      <td>-0.485086</td>\n",
       "      <td>-0.725907</td>\n",
       "      <td>-0.861968</td>\n",
       "      <td>-0.923738</td>\n",
       "      <td>-0.348619</td>\n",
       "      <td>-1.163042</td>\n",
       "      <td>-1.161138</td>\n",
       "      <td>-0.348619</td>\n",
       "      <td>-1.279400</td>\n",
       "      <td>-0.447336</td>\n",
       "      <td>1.260367</td>\n",
       "    </tr>\n",
       "    <tr>\n",
       "      <th>...</th>\n",
       "      <td>...</td>\n",
       "      <td>...</td>\n",
       "      <td>...</td>\n",
       "      <td>...</td>\n",
       "      <td>...</td>\n",
       "      <td>...</td>\n",
       "      <td>...</td>\n",
       "      <td>...</td>\n",
       "      <td>...</td>\n",
       "      <td>...</td>\n",
       "      <td>...</td>\n",
       "      <td>...</td>\n",
       "    </tr>\n",
       "    <tr>\n",
       "      <th>354</th>\n",
       "      <td>-0.819881</td>\n",
       "      <td>-0.485086</td>\n",
       "      <td>-0.725907</td>\n",
       "      <td>0.659900</td>\n",
       "      <td>-1.140910</td>\n",
       "      <td>-0.348619</td>\n",
       "      <td>-0.375135</td>\n",
       "      <td>-0.382290</td>\n",
       "      <td>-0.348619</td>\n",
       "      <td>0.343585</td>\n",
       "      <td>-0.447336</td>\n",
       "      <td>1.260367</td>\n",
       "    </tr>\n",
       "    <tr>\n",
       "      <th>355</th>\n",
       "      <td>-0.819881</td>\n",
       "      <td>-0.485086</td>\n",
       "      <td>-0.725907</td>\n",
       "      <td>-1.006908</td>\n",
       "      <td>-0.576262</td>\n",
       "      <td>-0.348619</td>\n",
       "      <td>0.053955</td>\n",
       "      <td>0.221386</td>\n",
       "      <td>-0.348619</td>\n",
       "      <td>0.343585</td>\n",
       "      <td>2.229227</td>\n",
       "      <td>1.260367</td>\n",
       "    </tr>\n",
       "    <tr>\n",
       "      <th>356</th>\n",
       "      <td>-0.819881</td>\n",
       "      <td>-0.485086</td>\n",
       "      <td>0.235364</td>\n",
       "      <td>-0.934438</td>\n",
       "      <td>-1.401517</td>\n",
       "      <td>-0.348619</td>\n",
       "      <td>-0.619586</td>\n",
       "      <td>-0.582649</td>\n",
       "      <td>-0.348619</td>\n",
       "      <td>0.343585</td>\n",
       "      <td>-0.447336</td>\n",
       "      <td>1.260367</td>\n",
       "    </tr>\n",
       "    <tr>\n",
       "      <th>357</th>\n",
       "      <td>0.566781</td>\n",
       "      <td>-0.485086</td>\n",
       "      <td>-0.725907</td>\n",
       "      <td>-0.282209</td>\n",
       "      <td>-0.098484</td>\n",
       "      <td>-0.348619</td>\n",
       "      <td>0.867202</td>\n",
       "      <td>0.465005</td>\n",
       "      <td>-0.348619</td>\n",
       "      <td>0.343585</td>\n",
       "      <td>-0.447336</td>\n",
       "      <td>-0.078307</td>\n",
       "    </tr>\n",
       "    <tr>\n",
       "      <th>358</th>\n",
       "      <td>-0.819881</td>\n",
       "      <td>-0.485086</td>\n",
       "      <td>-0.725907</td>\n",
       "      <td>-0.282209</td>\n",
       "      <td>0.509598</td>\n",
       "      <td>-0.348619</td>\n",
       "      <td>-0.421277</td>\n",
       "      <td>-0.564264</td>\n",
       "      <td>-0.348619</td>\n",
       "      <td>-1.279400</td>\n",
       "      <td>-0.447336</td>\n",
       "      <td>1.260367</td>\n",
       "    </tr>\n",
       "  </tbody>\n",
       "</table>\n",
       "<p>359 rows × 12 columns</p>\n",
       "</div>"
      ],
      "text/plain": [
       "       double    trible  double_space     begin       end  duplicate  \\\n",
       "0   -0.819881 -0.485086     -0.725907  1.964358 -1.271214  -0.348619   \n",
       "1   -0.819881 -0.485086     -0.725907  0.659900 -0.923738  -0.348619   \n",
       "2    0.420817 -0.485086     -0.725907 -0.499618  1.552025  -0.348619   \n",
       "3    1.223621 -0.485086     -0.725907 -1.514197  0.509598  -0.348619   \n",
       "4    1.150639 -0.485086     -0.725907 -0.861968 -0.923738  -0.348619   \n",
       "..        ...       ...           ...       ...       ...        ...   \n",
       "354 -0.819881 -0.485086     -0.725907  0.659900 -1.140910  -0.348619   \n",
       "355 -0.819881 -0.485086     -0.725907 -1.006908 -0.576262  -0.348619   \n",
       "356 -0.819881 -0.485086      0.235364 -0.934438 -1.401517  -0.348619   \n",
       "357  0.566781 -0.485086     -0.725907 -0.282209 -0.098484  -0.348619   \n",
       "358 -0.819881 -0.485086     -0.725907 -0.282209  0.509598  -0.348619   \n",
       "\n",
       "         freq  freq_weig  duplicate_con  vowel_num  vowel_begin  num_phonemes  \n",
       "0   -1.554852  -1.141591      -0.348619  -1.279400    -0.447336      1.260367  \n",
       "1   -0.283424  -0.310428      -0.348619  -1.279400    -0.447336      1.260367  \n",
       "2    0.446137   0.093136      -0.348619   0.343585    -0.447336     -1.416980  \n",
       "3   -0.737961  -1.299150      -0.348619   0.343585    -0.447336      1.260367  \n",
       "4   -1.163042  -1.161138      -0.348619  -1.279400    -0.447336      1.260367  \n",
       "..        ...        ...            ...        ...          ...           ...  \n",
       "354 -0.375135  -0.382290      -0.348619   0.343585    -0.447336      1.260367  \n",
       "355  0.053955   0.221386      -0.348619   0.343585     2.229227      1.260367  \n",
       "356 -0.619586  -0.582649      -0.348619   0.343585    -0.447336      1.260367  \n",
       "357  0.867202   0.465005      -0.348619   0.343585    -0.447336     -0.078307  \n",
       "358 -0.421277  -0.564264      -0.348619  -1.279400    -0.447336      1.260367  \n",
       "\n",
       "[359 rows x 12 columns]"
      ]
     },
     "execution_count": 249,
     "metadata": {},
     "output_type": "execute_result"
    }
   ],
   "source": [
    "df.iloc[:, 15:27]"
   ]
  },
  {
   "cell_type": "code",
   "execution_count": 250,
   "metadata": {},
   "outputs": [],
   "source": [
    "df[\"GMM_Components\"] = GMM.predict(df.iloc[:, 15:28].loc[:, lasso_reg1.coef_ != 0])"
   ]
  },
  {
   "cell_type": "code",
   "execution_count": 251,
   "metadata": {},
   "outputs": [
    {
     "data": {
      "text/plain": [
       "7"
      ]
     },
     "execution_count": 251,
     "metadata": {},
     "output_type": "execute_result"
    }
   ],
   "source": [
    "sum(lasso_reg1.coef_ != 0)"
   ]
  },
  {
   "cell_type": "code",
   "execution_count": 252,
   "metadata": {},
   "outputs": [
    {
     "name": "stdout",
     "output_type": "stream",
     "text": [
      "165\n",
      "39\n",
      "42\n",
      "25\n",
      "88\n"
     ]
    }
   ],
   "source": [
    "# Distributions\n",
    "for i in range(5):\n",
    "    print(sum(df[\"GMM_Components\"]==i))"
   ]
  },
  {
   "cell_type": "code",
   "execution_count": 253,
   "metadata": {},
   "outputs": [
    {
     "name": "stdout",
     "output_type": "stream",
     "text": [
      "4.202303030303032\n",
      "4.443333333333334\n",
      "4.171428571428572\n",
      "4.021599999999999\n",
      "4.120909090909093\n",
      "4.192339832869077\n"
     ]
    }
   ],
   "source": [
    "# Expected trials in each components\n",
    "for i in range(5):\n",
    "    print(np.mean(df.loc[df[\"GMM_Components\"]==i, \"Etrial\"]))\n",
    "print(np.mean(df.loc[:, \"Etrial\"]))"
   ]
  },
  {
   "cell_type": "code",
   "execution_count": 254,
   "metadata": {},
   "outputs": [
    {
     "name": "stdout",
     "output_type": "stream",
     "text": [
      "2.624242424242424\n",
      "3.1025641025641026\n",
      "4.642857142857143\n",
      "2.16\n",
      "2.3181818181818183\n",
      "2.8050139275766015\n"
     ]
    }
   ],
   "source": [
    "# Mean of trials exceeded 7\n",
    "for i in range(5):\n",
    "    print(np.mean(df.loc[df[\"GMM_Components\"]==i, \"7 or more tries (X)\"]))\n",
    "print(np.mean(df.loc[:, \"7 or more tries (X)\"]))"
   ]
  },
  {
   "cell_type": "code",
   "execution_count": 255,
   "metadata": {},
   "outputs": [
    {
     "data": {
      "image/png": "[encoded data removed]",
      "text/plain": [
       "<Figure size 432x288 with 1 Axes>"
      ]
     },
     "metadata": {},
     "output_type": "display_data"
    }
   ],
   "source": [
    "for i in range(5):\n",
    "    plt.plot(range(sum(lasso_reg1.coef_ != 0)), GMM.means_[i])"
   ]
  },
  {
   "cell_type": "code",
   "execution_count": 256,
   "metadata": {},
   "outputs": [],
   "source": [
    "X = df.iloc[:, 15:28]\n",
    "y1 = df.iloc[:, 12]\n",
    "y2 = df[\"7 or more tries (X)\"] + df[\"6 tries\"]\n",
    "y1 = (y1-y1.min() + 0.1)/y1.std()\n",
    "y2 = (y2-y2.min())/y2.std()\n",
    "y = np.log((y1 + y2)/2)\n",
    "train_X, test_X, train_y, test_y = train_test_split(X, y2, test_size=0.3)\n"
   ]
  },
  {
   "cell_type": "code",
   "execution_count": 257,
   "metadata": {},
   "outputs": [
    {
     "data": {
      "text/plain": [
       "0.07069848434917358"
      ]
     },
     "execution_count": 257,
     "metadata": {},
     "output_type": "execute_result"
    }
   ],
   "source": [
    "lasso_reg1 = linear_model.Lasso(alpha=0.05)\n",
    "lasso_reg1.fit(train_X, train_y)\n",
    "lasso_reg1.score(test_X, test_y)"
   ]
  },
  {
   "cell_type": "code",
   "execution_count": 258,
   "metadata": {},
   "outputs": [
    {
     "data": {
      "text/plain": [
       "array([False,  True,  True,  True,  True,  True, False,  True, False,\n",
       "       False,  True, False, False])"
      ]
     },
     "execution_count": 258,
     "metadata": {},
     "output_type": "execute_result"
    }
   ],
   "source": [
    "lasso_reg1.coef_ != 0"
   ]
  },
  {
   "cell_type": "code",
   "execution_count": 259,
   "metadata": {},
   "outputs": [],
   "source": [
    "p_y = lasso_reg1.predict(test_X)"
   ]
  },
  {
   "cell_type": "code",
   "execution_count": 260,
   "metadata": {},
   "outputs": [
    {
     "data": {
      "text/plain": [
       "<AxesSubplot:>"
      ]
     },
     "execution_count": 260,
     "metadata": {},
     "output_type": "execute_result"
    },
    {
     "data": {
      "image/png": "[encoded data removed]",
      "text/plain": [
       "<Figure size 432x288 with 1 Axes>"
      ]
     },
     "metadata": {},
     "output_type": "display_data"
    }
   ],
   "source": [
    "plt.style.use(\"ggplot\")\n",
    "sns.regplot(x=p_y, y=test_y)\n"
   ]
  },
  {
   "cell_type": "code",
   "execution_count": 261,
   "metadata": {},
   "outputs": [
    {
     "data": {
      "text/plain": [
       "array([[1.        , 0.21737768],\n",
       "       [0.21737768, 1.        ]])"
      ]
     },
     "execution_count": 261,
     "metadata": {},
     "output_type": "execute_result"
    }
   ],
   "source": [
    "np.corrcoef(df.iloc[:, 20], df.iloc[:, 12])"
   ]
  }
 ],
 "metadata": {
  "kernelspec": {
   "display_name": "base",
   "language": "python",
   "name": "python3"
  },
  "language_info": {
   "codemirror_mode": {
    "name": "ipython",
    "version": 3
   },
   "file_extension": ".py",
   "mimetype": "text/x-python",
   "name": "python",
   "nbconvert_exporter": "python",
   "pygments_lexer": "ipython3",
   "version": "3.9.12"
  },
  "orig_nbformat": 4,
  "vscode": {
   "interpreter": {
    "hash": "91bb753b057673435fb8d6f6a083e6c818364728098c7ae050ca3a25357dd754"
   }
  }
 },
 "nbformat": 4,
 "nbformat_minor": 2
}
